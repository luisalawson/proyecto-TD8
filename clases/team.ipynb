{
 "cells": [
  {
   "cell_type": "markdown",
   "metadata": {},
   "source": [
    "Creamos la clase teams para representar a los equjipos y tener una manera sencilla y organizada de acceder a ellos y representarlos"
   ]
  },
  {
   "cell_type": "code",
   "execution_count": 1,
   "metadata": {},
   "outputs": [],
   "source": [
    "class Team:\n",
    "    def __init__(self, team_id, team_name):\n",
    "        self.team_id = team_id\n",
    "        self.team_name = team_name\n",
    "        self.players = []\n",
    "\n",
    "    def add_player(self, player):\n",
    "        self.players.append(player)\n",
    "\n",
    "    def calculate_defensive_capacity(self, defensive_events, exclude_player=None):\n",
    "        total_defensive_events = 0\n",
    "        successful_defensive_events = 0\n",
    "\n",
    "        for player in self.players:\n",
    "            if exclude_player and player.name == exclude_player:\n",
    "                continue\n",
    "            for event, outcomes in defensive_events.items():\n",
    "                total_defensive_events += player.total_events[event]\n",
    "                successful_defensive_events += player.successful_events.get(event, 0)\n",
    "\n",
    "        return successful_defensive_events / total_defensive_events if total_defensive_events > 0 else 0\n"
   ]
  }
 ],
 "metadata": {
  "kernelspec": {
   "display_name": "metodos",
   "language": "python",
   "name": "python3"
  },
  "language_info": {
   "codemirror_mode": {
    "name": "ipython",
    "version": 3
   },
   "file_extension": ".py",
   "mimetype": "text/x-python",
   "name": "python",
   "nbconvert_exporter": "python",
   "pygments_lexer": "ipython3",
   "version": "3.10.9"
  }
 },
 "nbformat": 4,
 "nbformat_minor": 2
}
