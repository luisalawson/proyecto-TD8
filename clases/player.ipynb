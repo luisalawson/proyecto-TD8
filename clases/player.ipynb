{
 "cells": [
  {
   "cell_type": "markdown",
   "metadata": {},
   "source": [
    "Creamos la clase player para poder representar a los jugadores de manera sencilla y ordenada"
   ]
  },
  {
   "cell_type": "code",
   "execution_count": 1,
   "metadata": {},
   "outputs": [],
   "source": [
    "class Player:\n",
    "    def __init__(self, name, team_id, position, df, defensive_events):\n",
    "        self.name = name\n",
    "        self.team_id = team_id\n",
    "        self.position = position\n",
    "        self.total_events = {}\n",
    "        self.successful_events = {}\n",
    "\n",
    "        # Calcular estadísticas defensivas\n",
    "        self.calculate_defensive_stats(df, defensive_events)\n",
    "\n",
    "    def calculate_defensive_stats(self, df, defensive_events):\n",
    "        player_df = df[df['playerName'] == self.name]\n",
    "        total_defensive_events = 0\n",
    "        successful_defensive_events = 0\n",
    "\n",
    "        for event, outcomes in defensive_events.items():\n",
    "            if event == 'Foul':\n",
    "                total_event_count = player_df[(player_df['description'] == event) & (player_df['outcome'] == 0)].shape[0]\n",
    "            else:\n",
    "                total_event_count = player_df[player_df['description'] == event].shape[0]\n",
    "                \n",
    "            self.total_events[event] = total_event_count\n",
    "\n",
    "            if 'successful' in outcomes:\n",
    "                if event == 'Foul':\n",
    "                    successful_event_count = player_df[(player_df['description'] == event) & (player_df['outcome'] == 0)].shape[0]\n",
    "                else:\n",
    "                    successful_event_count = player_df[(player_df['description'] == event) & (player_df['outcome'] == outcomes['successful'])].shape[0]\n",
    "                    \n",
    "                self.successful_events[event] = successful_event_count\n"
   ]
  }
 ],
 "metadata": {
  "kernelspec": {
   "display_name": "metodos",
   "language": "python",
   "name": "python3"
  },
  "language_info": {
   "codemirror_mode": {
    "name": "ipython",
    "version": 3
   },
   "file_extension": ".py",
   "mimetype": "text/x-python",
   "name": "python",
   "nbconvert_exporter": "python",
   "pygments_lexer": "ipython3",
   "version": "3.10.9"
  }
 },
 "nbformat": 4,
 "nbformat_minor": 2
}
