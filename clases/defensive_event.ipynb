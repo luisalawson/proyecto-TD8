{
 "cells": [
  {
   "cell_type": "markdown",
   "metadata": {},
   "source": [
    "Utilizamos muchas veces a lo largo de nuestro analisis los eventos defensivos, por lo que decidimos crear una plase para facilitar el uso"
   ]
  },
  {
   "cell_type": "code",
   "execution_count": 1,
   "metadata": {},
   "outputs": [],
   "source": [
    "class DefensiveEvent:\n",
    "    def __init__(self):\n",
    "        self.events = {\n",
    "            'Interception': {'successful': 1},\n",
    "            'Save': {'successful': 1},\n",
    "            'Ball recovery': {'successful': 1},\n",
    "            'Error': {'unsuccessful': 1},\n",
    "            'Offside provoked': {'successful': 1},\n",
    "            'Shield ball opp': {'successful': 1},\n",
    "            'Challenge': {'unsuccessful': 0},\n",
    "            'Foul': {'unsuccessful': 0},\n",
    "            'Tackle': {'successful': 1, 'unsuccessful': 0},\n",
    "            'Clearance': {'successful': 1, 'unsuccessful': 0},\n",
    "            'Aerial': {'successful': 1, 'unsuccessful': 0},\n",
    "        }\n",
    "\n",
    "    def get_events(self):\n",
    "        return self.events\n"
   ]
  }
 ],
 "metadata": {
  "kernelspec": {
   "display_name": "metodos",
   "language": "python",
   "name": "python3"
  },
  "language_info": {
   "codemirror_mode": {
    "name": "ipython",
    "version": 3
   },
   "file_extension": ".py",
   "mimetype": "text/x-python",
   "name": "python",
   "nbconvert_exporter": "python",
   "pygments_lexer": "ipython3",
   "version": "3.10.9"
  }
 },
 "nbformat": 4,
 "nbformat_minor": 2
}
