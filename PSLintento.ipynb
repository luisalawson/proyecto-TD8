{
 "cells": [
  {
   "cell_type": "code",
   "execution_count": 91,
   "metadata": {},
   "outputs": [],
   "source": [
    "from statsbombpy import sb\n",
    "import pandas as pd\n",
    "import numpy as np"
   ]
  },
  {
   "cell_type": "code",
   "execution_count": 92,
   "metadata": {},
   "outputs": [],
   "source": [
    "df = sb.matches(competition_id=11, season_id=27)"
   ]
  },
  {
   "cell_type": "code",
   "execution_count": 93,
   "metadata": {},
   "outputs": [
    {
     "data": {
      "text/plain": [
       "Index(['match_id', 'match_date', 'kick_off', 'competition', 'season',\n",
       "       'home_team', 'away_team', 'home_score', 'away_score', 'match_status',\n",
       "       'match_status_360', 'last_updated', 'last_updated_360', 'match_week',\n",
       "       'competition_stage', 'stadium', 'referee', 'home_managers',\n",
       "       'away_managers', 'data_version', 'shot_fidelity_version',\n",
       "       'xy_fidelity_version'],\n",
       "      dtype='object')"
      ]
     },
     "execution_count": 93,
     "metadata": {},
     "output_type": "execute_result"
    }
   ],
   "source": [
    "df.columns"
   ]
  },
  {
   "cell_type": "code",
   "execution_count": 94,
   "metadata": {},
   "outputs": [],
   "source": [
    "teams1 = df['home_team'].unique()\n",
    "teams2 = df['away_team'].unique()"
   ]
  },
  {
   "cell_type": "code",
   "execution_count": 95,
   "metadata": {},
   "outputs": [],
   "source": [
    "teams = set(teams1) | set(teams2)"
   ]
  },
  {
   "cell_type": "code",
   "execution_count": 96,
   "metadata": {},
   "outputs": [],
   "source": [
    "def get_team_id_matches(team, df):\n",
    "    idvalues = df[(df['home_team'] == team) | (df['away_team'] == team)]['match_id'].unique()\n",
    "    return idvalues"
   ]
  },
  {
   "cell_type": "code",
   "execution_count": 100,
   "metadata": {},
   "outputs": [],
   "source": [
    "def get_players(team, df):\n",
    "    #given a team, it will return its players\n",
    "    idvalues = get_team_id_matches(team, df)\n",
    "    players = set()\n",
    "    for id in idvalues:\n",
    "        lineup = sb.lineups(match_id=id)[team]\n",
    "        players.update(lineup['player_name'].unique())\n",
    "    print(players)\n",
    "    return players"
   ]
  },
  {
   "cell_type": "code",
   "execution_count": 101,
   "metadata": {},
   "outputs": [
    {
     "name": "stdout",
     "output_type": "stream",
     "text": [
      "{'Mickaël Ciani', 'Francesco Bardi', 'Óscar Esau Duarte Gaitán', 'Joan Jordán Moreno', 'Mamadou Sylla Diallo', 'Marco Asensio Willemsen', 'Gerard Moreno Balaguero', 'Víctor Guillermo Álvarez Delgado', 'Roberto Antonio Correa Silva', 'Juan Rafael Fuentes Hernández', 'Lluís López Mármol', 'Antonio José Raillo Arenas', 'Jorge Franco Alviz', 'Álvaro González Soberón', 'José Alberto Cañas Ruiz Herrera', 'Víctor Sánchez Mata', 'Anaitz Arbilla Zabala', 'Francisco Montañés Claverías', 'Giedrius Arlauskis', 'Rubén Duarte Sánchez', 'Javier López Rodríguez', 'Andrés Tomás Prieto Albert', 'Enzo Pablo Roco Roco', 'Hernán Arsenio Pérez González', 'Abraham González Casanova', 'Pau López Sabata', 'Papa Kouly Diop', 'Salvador Sevilla López', 'Felipe Salvador Caicedo Corozo'}\n",
      "{'Ignacio Camacho Barnola', 'Arthur Etienne Boka', 'Aarón Escandell Banacloche', 'Juan Carlos Pérez López', 'Idriss Carlos Kameni', 'Nordin Amrabat', 'Marcos Alberto Angeleri', 'Francisco Guillermo Ochoa Magaña', 'Juan Pablo Añor Acosta', 'Pablo Fornals Malla', 'Ikechukwu Uche', 'Miguel Torres Gómez', 'Weligton Róbson Pena de Oliveira', 'Raúl Albentosa Redal', 'Hachim Mastour', 'Javier Ontiveros Parra', 'Federico Ricca Rostagnol', 'Miguel Ángel Garrido Cifuentes', 'José Luis García del Pozo', 'Sergi Darder Moll', 'Duje Čop', 'Christian Atsu Twasam', 'Ricardo Jorge Luz Horta', 'Gonzalo Castro Irizábal', 'Roberto José Rosales Altuve', 'Fábio Ricardo Gomes Fonseca', 'Egor Filipenko', 'Fernando Damián Tissone', 'Roque Luis Santa Cruz Cantero', 'Adnane Tighadouini', 'Charles Días Barbosa de Oliveira', 'Sérgio Paulo Barbosa Valente'}\n",
      "{'Sandro Ramírez Castillo', 'Ivan Rakitić', 'Juan del Cármen Cámara Mesa', 'Marc-André ter Stegen', 'Sergi Samper Montaña', 'Claudio Andrés Bravo Muñoz', 'Jordi Masip López', 'Munir El Haddadi Mohamed', 'Jérémy Mathieu', 'Andrés Iniesta Luján', 'Aleix Vidal Parreu', 'Douglas Pereira dos Santos', 'Neymar da Silva Santos Junior', 'Rafael Alcântara do Nascimento', 'Sergio Busquets i Burgos', 'Luis Alberto Suárez Díaz', 'Adriano Correia Claro', 'Gerard Piqué Bernabéu', 'Marc Bartra Aregall', 'Jordi Alba Ramos', 'Javier Alejandro Mascherano', 'Lionel Andrés Messi Cuccittini', 'Daniel Alves da Silva', 'Sergi Roberto Carnicer', 'Thomas Vermaelen', 'Gerard Gumbau Garriga', 'Arda Turan'}\n",
      "{'Juan Torres Ruiz', 'Vicente Guaita Panadero', 'Bernard Mensah', 'Francisco Javier García Noblejas Hernanz', 'Ángel Lafita Castillo', 'Roberto Lago Soto', 'Pedro León Sánchez Gil', 'Abdoul Karim Yoda', 'José Carrillo Mancilla', 'Henok Goitom', 'Víctor Rodríguez Romero', 'Ian González Nieto', 'Álvaro Daniel Pereira Barragán', 'Borja Galán González', 'Alexis Ruano Delgado', 'Emiliano Daniel Velázquez Maldonado', 'Carlos Martín Vigaray', 'Wanderson Maciel Sousa Campos', 'Stefan Šćepović', 'Damián Nicolás Suárez Suárez', 'Santiago Vergini', 'Álvaro Vázquez García', 'Moisés Gómez Bordonado', 'Emiliano Buendía', 'Mehdi Lacen', 'Miguel Ángel Muñoz Alonso', 'Álvaro Medrán Just', 'Pablo Sarabia García', 'Balázs Megyeri', 'Juan Antonio Rodríguez Villamuela'}\n",
      "{'Rubén Salvador Pérez Del Mármol', 'Edgar Antonio Méndez Ortega', 'Cristiano Biraghi', 'Abdoulaye Doucouré', 'David Barral Torres', 'Hugo Miguel Almeida Costa Lopes', 'Matheus Dória Macedo', 'Rubén Rochina Naixes', 'Francisco Manuel Rico Castro', 'Uche Henry Agbo', 'Juan Isaac Cuenca López', 'Youssef El-Arabi', 'Ricardo Miguel Moreira da Costa', 'Stole Dimitrievski', 'Francisco Medina Luna', 'Jesús Fernández Collado', 'Thievy Guivane Bifouma Koulossa', 'Jean-Sylvain Claude Babin', 'Salvador Ruiz Rodríguez', 'Andrés Eduardo Fernández Moreno', 'Robert Ibáñez Castro', 'Dimitri Foulquier', 'Adalberto Peñaranda Maestre', 'Diego Mainz García', 'Javier Márquez Moreno', 'Jhon Andrés Córdoba Copete', 'Ivan Kelava', 'David Rodríguez Lombán', 'Rene Krhin', 'Nicolás Federico López Alonso', 'Isaac Ajayi Success'}\n",
      "{'Germán Darío Lux', 'Fayçal Fajr', 'Jonathan Javier Rodríguez Portillo', 'Luis Alberto Romero Alconchel', 'Manuel Pablo García Díaz', 'Luis Carlos Correia Pinto', 'Alberto Lopo García', 'Juan Domínguez Lamas', 'Haris Medunjanin', 'Jonás Manuel Gutiérrez', 'Sidnei Rechel da Silva Júnior', 'Alejandro Arribas Garrido', 'David Gómez Vázquez', 'Celso Borges Mora', 'Pedro Mosquera Parada', 'Fernando Navarro i Corbacho', 'Fabricio Martín Agosto Ramírez', 'Rubén Gracia Calmache', 'Roberto Suárez Pier', 'Miguel Filipe Nunes Cardoso', 'Federico Nicolás Cartabia', 'Alejandro Bergantiños García', 'Lucas Pérez Martínez', 'Juan Francisco Moreno Fuertes', 'Manuel Fernández Muñíz', 'Oriol Riera Magem', 'Laureano Sanabria Ruiz', 'Stipe Pletikosa', 'Óscar Francisco García Quintela'}\n",
      "{'Ander Gayoso Reina', 'Takashi Inui', 'Jon Ansotegi Gorostola', 'Mikel Arruabarrena Aranbide', 'Daniel García Carrillo', 'Julen López Salas', 'José Ignacio Peleteiro Ramallo', 'Asier Riesgo Unamuno', 'Mauro Javier Dos Santos', 'Imanol Corral Matellán', 'Izet Hajrović', 'Josip Radošević', 'Ander Capa Rodríguez', 'David Juncà Reñé', 'Jorge Gómez Mediavilla', 'Asier Etxaburu Diz', 'Gonzalo Escalante', 'Sergio Enrich Ametller', 'Adrián González Morales', 'Antonio Manuel Luna Rodríguez', 'Borja Ekiza Imaz', 'Saúl Berjón Pérez', 'Xabier Iruretagoiena Aranzamendi', 'Sergio Gontán Gallardo', 'Eddy Silvestre Pascual İsrafilov', 'Simone Verdi', 'Manuel Castellano Castro', 'Jon Errasti Zabalete', 'Borja González Tomás', 'Iván Ramis Barrios', 'Aleksandar Pantić', 'Iñigo Barrenetxea García'}\n",
      "{'Adrián López Álvarez', 'Roberto Soldado Rillo', 'Denis Suárez Fernández', 'Bruno Soriano Llido', 'Jonathan dos Santos Ramírez', 'Adrián Marín Gómez', 'Rodrigo Hernández Cascante', 'Miguel Juan Llambrich', 'Pablo Íñiguez de Heredia Larraz', 'Víctor Ruíz Torre', 'Cédric Bakambu', 'Manuel Trigueros Muñoz', 'Mariano Damián Barbosa', 'Antonio Rukavina', 'Eric Bertrand Bailly', 'Daniele Bonera', 'Samuel García Sánchez', 'Tomás Pina Isla', 'Alfonso Pedraza Sag', 'Alphonse Areola', 'Sergio Asenjo Andrés', 'Leonardo Carrilho Baptistão', 'Jaume Vicent Costa Jordá', 'Mateo Pablo Musacchio', 'Mario Gaspar Pérez Martínez', 'Matías Nahuel Leiva Esquivel', 'Bojan Jokić', 'Samuel Castillejo Azuaga'}\n",
      "{'Sergi Gómez Solà', 'Josep Señé Escudero', 'Rubén Blanco Veiga', 'David Goldar Gómez', 'Pedro Pablo Hernández', 'Pape Cheikh Diop Gueye', 'Marcelo Alfonso Díaz Rojas', 'Dejan Dražić', 'Iago Aspas Juncal', 'Fabián Ariel Orellana Valenzuela', 'Carles Planas Antolínez', 'Néstor Díaz García', 'Gustavo Daniel Cabral Cáceres', 'John Guidetti', 'Sergio Álvarez Conde', 'Jonathan Castro Otto', 'Borja Iglesias Quintas', 'Hugo Mallo Novegil', 'Lévy Clément Madinda', 'Andreu Fontàs Prat', 'Borja Fernández Fernández', 'Diego Alende López', 'Manuel Agudo Durán', 'Daniel Wass', 'Claudio Beauvue', \"Théo Bongonda Mbul''Ofeko Batombo\", 'Nemanja Radoja', 'Augusto Matías Fernández'}\n",
      "{'Wilfried Aimeric Zahibo', 'Carlos Carbonell Gil', 'José Luis Gayà Peña', 'Pablo Daniel Piatti', 'Yoel Rodríguez Oterino', 'Shkodran Mustafi', 'André Filipe Tavares Gomes', 'Guilherme Magdalena Siqueira', 'Danilo Barbosa da Silva', 'Diego Alves Carreira', 'Zakaria Bakkali', 'Francisco José Villalba Rodrigo', 'Denis Cheryshev', 'Rafael Mir Vicente', 'Antonio Barragán Fernández', 'Francisco Alcácer García', 'Rúben Miguel Nunes Vezo', 'Enzo Nicolás Pérez', 'Rodrigo Moreno Machado', 'Carlos Soler Barragán', 'Diego Caballo Alonso', 'Aymen Abdennour', 'João Pedro Cavaco Cancelo', 'Ignacio Gil de Pareja Vicent', 'Antonio Latorre Grueso', 'Aderllan Leandro de Jesus Santos', 'Álvaro Negredo Sánchez', 'Santiago Mina Lorenzo', 'Sofiane Feghouli', 'Rodrigo Javier De Paul', 'Mathew Ryan', 'Javier Fuego Martínez', 'Daniel Parejo Muñoz', 'Jaume Doménech Sánchez', 'Andrés Pascual Santoja', 'Lucas Alfonso Orbán Alegre', 'Ibrahim Diallo'}\n",
      "{'Antonio Adán Garrido', 'Pedro López Galisteo', 'Didier Digard', 'Cristiano Piccini', 'Álvaro Vadillo Cifuentes', 'Vincenzo Renato Rennella', 'Rafael van der Vaart', 'Rubén Castro Martín', 'Fabián Ruiz Peña', 'Joaquín Sánchez Rodríguez', 'Ricky van Wolfswinkel', 'Xavier Torres Buigues', 'Álvaro Cejudo Carmona', 'Francisco Miguel Varela Martín', 'Francisco Portillo Soler', 'Petros Matheus dos Santos Araújo', 'Bruno González Cabrera', 'Jordi Figueras Montel', 'Martín Montoya Torralbo', 'Leandro Damião da Silva dos Santos', 'Ángel de la Calzada Ramos', 'Charly Musonda Junior', 'Francisco José Molinero Calderón', 'Foued Kadir', \"Alfred John Momar N''Diaye\", 'Daniel Giménez Hernández', 'Jorge Molina Vidal', 'Germán Alejandro Pezzella', 'Daniel Ceballos Fernández', 'Juan Manuel Vargas Risco', 'Heiko Westermann'}\n",
      "{'Sebastián Carlos Cristóforo Pepe', 'Yevhen Konoplyanka', 'Marco Andreolli', 'Carlos Fernández Luna', 'Iván López Álvarez', 'Denis Suárez Fernández', 'Nicolás Martín Pareja', 'Vicente Iborra De La Fuente', 'Mariano Ferreira Filho', 'Sergio Rico González', 'Sergio Escudero Palomo', 'Francisco José Sánchez Rodríguez', 'Ciro Immobile', 'António Alberto Bastos Pimparel', 'Daniel Filipe Martins Carriço', 'Francisco Borja Lasso de la Vega Gayán', 'Gaël Kakuta', 'Federico Julián Fazio', 'Juan Muñoz Muñoz', 'Diego González Polanco', 'Benoît Trémoulinas', 'Kevin Gameiro', 'Diogo José Rosário Gomes Figueiras', \"Steven N''Kemboanza Mike Christopher Nzonzi\", 'Timothée Kolodziejczak', 'José Antonio Reyes Calderón', 'Éver Maximiliano David Banega', 'Fernando Llorente Torres', 'Jorge Andújar Moreno', 'José Joaquín Matos García', 'Michael Krohn-Dehli', 'Antonio Jesús Cotán Pérez', 'Adil Rami', 'Grzegorz Krychowiak', 'David Soria Solís', 'Víctor Machín Pérez', 'David Carmona Sierra', 'Luis Miguel Sánchez Benítez'}\n",
      "{'Juan Francisco Torres Belén', 'Filipe Luís Kasmirski', 'Fernando José Torres Sanz', 'Óliver Torres Muñoz', 'Diego Roberto Godín Leal', 'Miguel Ángel Moyà Rumbo', 'Ignacio Monsalve Vicente', 'Claudio Matías Kranevitter', 'Guilherme Magdalena Siqueira', 'Jorge Resurrección Merodio', 'Samuel Villa Rodríguez', 'Jan Oblak', 'Jackson Arley Martínez Valencia', 'Theo Bernard François Hernández', 'Ángel Martín Correa', 'Tiago Cardoso Mendes', 'Stefan Savić', 'Yannick Ferreira Carrasco', 'Gabriel Fernández Arenas', 'José María Giménez de Vargas', 'Lucas Hernández Pi', 'Luciano Vietto', 'Thomas Teye Partey', 'Raúl García Escudero', 'Jesús Gámez Duarte', 'Antoine Griezmann', 'Amath Ndiaye', 'Augusto Matías Fernández', 'Saúl Ñíguez Esclapez'}\n",
      "{'Sergio Ezequiel Araújo', 'Antolín Alcáraz Viveros', 'Roque Mesa Quevedo', 'Javier Varas Herrera', 'Javier Garrido Behovide', 'Dani Castellano Betancor', 'Javi Castellano Betancor', 'Hernán Daniel Santana Trujillo', 'Jonathan Viera Ramos', 'Juan Carlos Valerón Santana', 'José Vicente Gómez Umpiérrez', 'Nauzet Alemán Viera', 'Daniel Lorenzo Lorenzo', 'Ángel Domingo López Ruano', 'Pedro Bigas Rigo', 'Pedro Taunausú Domínguez Placeres', 'Nabil El Zhar', 'David Simón Rodríguez Santana', 'Jefté Betancor Sánchez', 'Aythami Artiles Oliva', 'Félix Asdrúbal Padrón Hernández', 'Mubarak Wakaso', 'David García Santana', 'Mauricio Lemos Merladet', 'Ángel Montoro Sánchez', 'Juan Emmanuel Culio', 'Willian José da Silva', 'Francisco Carlos González Cabrera', 'Francisco José Perdomo Borges', 'Jerónimo Figueroa Cabrera', 'Raúl Lizoáin Cruz'}\n",
      "{'Alberto Guitián Ceballos', 'Arnaldo Antonio Sanabria Ayala', 'Ognjen Vranješ', 'Jonathan Rodríguez Menéndez', 'Carlos Carmona Bonet', 'Miguel Ángel Guerrero Martín', 'Alejandro Barrera García', 'Ignacio Cases Mora', 'Igor Lichnovsky Osorio', 'Alen Halilović', 'Ismael López Blanco', 'Sergio Mendigutxia Iglesias', 'Pablo Pérez Rodríguez', 'Dennis Díaz Fernánadez', 'Carlos Castro García', 'Iván Cuéllar Sacristán', \"Daniel Arnaud N''Di\\t\", 'Alberto García Cabrera', 'Luis Hernández Rodríguez', 'Juan Muñiz Gallego', 'Sergio Álvarez Díaz', 'Alberto Lora Ramos', 'Bernardo José Espinosa Zúñiga', 'Alejandro Menéndez Díez', 'Rachid Aït-Atmane', 'Omar Mascarell González', 'Hugo Fraile Martín', 'Jorge Meré Pérez', 'Roberto Canella Suárez'}\n",
      "{'Javier Eraso Goñi', 'Mikel Rico Moreno', 'Carlos Gurpegi Nausia', 'Mikel San José Domínguez', 'Iago Herrerín Buisán', 'Eneko Bóveda Altube', 'Gorka Elustondo Urkola', 'Alejandro Remiro Gargallo', 'Íñigo Lekue Martínez', 'Iñaki Williams Arthuer', 'Aymeric Laporte', 'Iker Muniain Goñi', 'Borja Viguera Manzanares', 'Aritz Aduriz Zubeldia', 'Ander Iturraspe Derteano', 'Enrique Sola Clemente', 'Ibai Gómez Pérez', 'Markel Susaeta Laskurain', 'Beñat Etxebarria Urkiaga', 'Mikel Balenziaga Oruesagasti', 'Óscar de Marcos Arana', 'Raúl García Escudero', 'Sabin Merino Zuloaga', 'Ager Aketxe Barrutia', 'Gorka Iraizoz Moreno', 'Xabier Etxeita Gorritxategi'}\n",
      "{'Danilo Luiz da Silva', 'Kléper Laveran Lima Ferreira', 'Keylor Navas Gamboa', 'James David Rodríguez Rubio', 'Carlos Henrique Casimiro', 'Borja Mayoral Moya', 'Karim Benzema', 'José Ignacio Fernández Iglesias', 'Gareth Frank Bale', 'Marcos Llorente Moreno', 'Francisco Román Alarcón Suárez', 'Toni Kroos', 'Álvaro Arbeloa Coca', 'Raphaël Varane', 'Daniel Carvajal Ramos', 'Sergio Ramos García', 'Denis Cheryshev', 'Orlando Rubén Yáñez Alabart', 'Philipp Lienhart', 'Luka Modrić', 'Jesé Rodríguez Ruiz', 'Francisco Casilla Cortés', 'Mateo Kovačić', 'Álvaro Tejero Sacristán', 'Lucas Vázquez Iglesias', 'José Carlos Lazo Romero', 'Cristiano Ronaldo dos Santos Aveiro', 'Marcelo Vieira da Silva Júnior', 'Martin Ødegaard'}\n",
      "{'Zouhair Feddal', 'Víctor Casadesús Castaño', 'Pedro López Muñoz', 'Mauricio Andrés Cuero Castillo', 'Roger Martí Salvador', 'Jefferson Andrés Lerma Solís', 'Nikolaos Karabelas', 'Rubén Iván Martínez Andrade', 'Ángel Trujillo Canorea', 'Nabil Ghilas', 'Simão Mate', 'Joan Verdú Fernández', 'Jordi Xumetra Feliu', 'Jesús Fernández Collado', 'Rubén García Santos', 'Diego Mariño Villar', 'Daniel Pedro Calvo San Román', 'Antonio García Aranda', 'Víctor Camarasa Ferrando', 'David Navarro Pedrós', 'José Luis Morales Nogales', 'Deyverson Brum Silva Acosta', 'Juan Francisco García García', 'Carl Medjani', 'José Antonio García Rabasco', 'Iván López Mendoza', 'Giuseppe Rossi', 'José María Martín-Bejarano Serrano', 'Álvaro Traver Navarrete', 'José Luis García Vayá', 'Lucas Alfonso Orbán Alegre'}\n",
      "{'Antonio Amaya Carazo', 'Jozabed Sánchez Ruiz', 'David Cobeño Iglesias', 'Ousseynou Cissé', 'Juan David Victoria López', 'Juan Carlos Martín Corral', 'Yoel Rodríguez Oterino', 'Alhassane Bangoura', 'Adrián Embarba Blázquez', 'José Antonio Dorado Ramírez', 'Manuel Rolando Iturra Urrutia', 'Sergio Akieme Rodríguez', 'Răzvan Dincă Raț', 'José Ángel Crespo Rincón', 'Roberto Román Triguero', 'Diego Javier Llorente Ríos', 'Francisco Medina Luna', 'Luis Carlos Fariña Olivera', 'Chengdong Zhang', 'Pablo Clavería Herráiz', 'Roberto Trashorras Gayoso', 'Joaquín José Marín Ruiz', 'Pablo Hernández Domínguez', 'Javier Guerra Rodríguez', 'José Ignacio Martínez García', 'Alejandro Campos Tablado', 'Antonio Rodríguez Martínez', 'Alberto Mateus Contreiras Gonçalves', 'Patrick Ebert', 'José Raúl Baena Urdiales', 'Nicolás Ladislao Fedor Flores', 'Aras Özbiliz', 'José Eduardo Rosa Vale de Castro', 'Tiago Manuel Dias Correia', 'Jonhatan Montiel Caballero'}\n",
      "{'Eneko Capilla González', 'Diego Antonio Reyes Rosales', 'Mikel Oyarzabal Ugarte', 'Mikel González de Martín Martínez', 'Jon Ansotegi Gorostola', 'Armindo Tué Na Bangna', 'Ander Bardaji Maiza Lasgar', 'Joseba Zaldúa Bengoetxea', 'Oier Olazábal Paredes', 'Yuri Berchiche Izeta', 'Carlos Alberto Vela Garrido', 'Jonathas Cristian de Jesus', 'Asier Illarramendi Andonegi', 'Aritz Elustondo Irribaria', 'Gonzalo Castro Irizábal', 'Imanol Agirretxe Arruti', 'Jon Bautista Orgilles', 'Gerónimo Rulli', 'Héctor Hernández Ortega', 'David Zurutuza Veillet', 'Íñigo Martínez Berridi', 'Esteban Félix Granero Molina', 'Markel Bergara Larrañaga', 'Álvaro Odriozola Arzallus', 'Rubén Pardo Gutiérrez', 'Carlos Martínez Díez', 'Igor Zubeldia Elorza', 'Alberto De La Bella Madureño', 'Sergio Canales Madrazo', 'Xabier Prieto Argarate'}\n"
     ]
    }
   ],
   "source": [
    "lineups = {}\n",
    "\n",
    "for team in teams:\n",
    "    lineups[f'lineup_{team}'] = set() \n",
    "    lineups[f'lineup_{team}'].update(get_players(team, df=df))  "
   ]
  },
  {
   "cell_type": "code",
   "execution_count": 124,
   "metadata": {},
   "outputs": [],
   "source": [
    "def get_events(team_ids):\n",
    "    events = pd.DataFrame()\n",
    "    for id in team_ids:\n",
    "        match_events = sb.events(match_id=id)\n",
    "        events = pd.concat([events, match_events], axis=0, ignore_index=True)\n",
    "    return events"
   ]
  },
  {
   "cell_type": "code",
   "execution_count": 126,
   "metadata": {},
   "outputs": [],
   "source": [
    "def calculate_passes_ij(player1, player2, events_df):\n",
    "    #calculates probability of pass from player 1 to player 2 based on an estimator\n",
    "    #relevant events (pass)\n",
    "    pass_events = events_df[events_df['type']=='Pass']\n",
    "    \n",
    "    #relevant passes (players)\n",
    "    pass_events_ij = pass_events[(pass_events['player'] == player1) & (pass_events['pass_recipient'] == player2)]\n",
    "    total_i_pass = pass_events[pass_events['player']==player1]\n",
    "\n",
    "    #length\n",
    "    passes_ij = len(pass_events_ij)\n",
    "    passes_i = len(total_i_pass)\n",
    "\n",
    "\n",
    "    return passes_ij/passes_i if passes_i >0 else 0"
   ]
  },
  {
   "cell_type": "code",
   "execution_count": 127,
   "metadata": {},
   "outputs": [],
   "source": [
    "def calculate_pass_matrix(team, df, lineups, team_events):\n",
    "    # First, we get the IDs of the matches that the team took part in\n",
    "    #team_ids = get_team_id_matches(team, df)\n",
    "    \n",
    "    # Now, we get the players\n",
    "    players = lineups[f'lineup_{team}']\n",
    "    \n",
    "    # Initialize an empty pass matrix for the given team\n",
    "    num_players = len(players)\n",
    "    pass_matrix = np.zeros((num_players, num_players))\n",
    "\n",
    "    #i want to keep track og which players represent the [i][j] values\n",
    "    player_index_map = {player: i for i, player in enumerate(players)}\n",
    "\n",
    "    \n",
    "    # Now, we get all of the events relevant to the team\n",
    "    #team_events = get_events(team_ids)\n",
    "\n",
    "    print(f\"Building pass matrix for '{team}'...\")\n",
    "    for i, player1 in enumerate(players):\n",
    "        for j, player2 in enumerate(players):\n",
    "            if player1 != player2:\n",
    "                pass_matrix[i, j] = calculate_passes_ij(player1, player2, team_events)\n",
    "        \n",
    "        #print(f\"Finished processing passes for {player1}. Access pass proportions with index {i}\")\n",
    "\n",
    "    print(\"Pass matrix construction complete.\")\n",
    "    #print(f\"Pass Matrix for '{team}':\")\n",
    "    \n",
    "    return pass_matrix, player_index_map"
   ]
  },
  {
   "cell_type": "code",
   "execution_count": 128,
   "metadata": {},
   "outputs": [],
   "source": [
    "import warnings\n",
    "#para que no aparezca el warning\n",
    "warnings.filterwarnings(\"ignore\", category=UserWarning, module='statsbombpy')"
   ]
  },
  {
   "cell_type": "code",
   "execution_count": 129,
   "metadata": {},
   "outputs": [],
   "source": [
    "pass_matrices = {}\n",
    "player_index_map = {}"
   ]
  },
  {
   "cell_type": "code",
   "execution_count": 131,
   "metadata": {},
   "outputs": [
    {
     "name": "stdout",
     "output_type": "stream",
     "text": [
      "Building pass matrix for 'Espanyol'...\n",
      "Pass matrix construction complete.\n",
      "Building pass matrix for 'Málaga'...\n",
      "Pass matrix construction complete.\n",
      "Building pass matrix for 'Barcelona'...\n",
      "Pass matrix construction complete.\n",
      "Building pass matrix for 'Getafe'...\n",
      "Pass matrix construction complete.\n",
      "Building pass matrix for 'Granada'...\n",
      "Pass matrix construction complete.\n",
      "Building pass matrix for 'RC Deportivo La Coruña'...\n",
      "Pass matrix construction complete.\n",
      "Building pass matrix for 'Eibar'...\n",
      "Pass matrix construction complete.\n",
      "Building pass matrix for 'Villarreal'...\n",
      "Pass matrix construction complete.\n",
      "Building pass matrix for 'Celta Vigo'...\n",
      "Pass matrix construction complete.\n",
      "Building pass matrix for 'Valencia'...\n",
      "Pass matrix construction complete.\n",
      "Building pass matrix for 'Real Betis'...\n",
      "Pass matrix construction complete.\n",
      "Building pass matrix for 'Sevilla'...\n",
      "Pass matrix construction complete.\n",
      "Building pass matrix for 'Atlético Madrid'...\n",
      "Pass matrix construction complete.\n",
      "Building pass matrix for 'Las Palmas'...\n",
      "Pass matrix construction complete.\n",
      "Building pass matrix for 'Sporting Gijón'...\n",
      "Pass matrix construction complete.\n",
      "Building pass matrix for 'Athletic Club'...\n",
      "Pass matrix construction complete.\n",
      "Building pass matrix for 'Real Madrid'...\n",
      "Pass matrix construction complete.\n",
      "Building pass matrix for 'Levante UD'...\n",
      "Pass matrix construction complete.\n",
      "Building pass matrix for 'Rayo Vallecano'...\n",
      "Pass matrix construction complete.\n",
      "Building pass matrix for 'Real Sociedad'...\n",
      "Pass matrix construction complete.\n"
     ]
    }
   ],
   "source": [
    "for team in teams:\n",
    "    team_ids = get_team_id_matches(team, df)\n",
    "    team_events = get_events(team_ids)\n",
    "    pass_matrices[team], player_index_map[team] = calculate_pass_matrix(team, df, lineups, team_events)"
   ]
  },
  {
   "cell_type": "code",
   "execution_count": 132,
   "metadata": {},
   "outputs": [],
   "source": [
    "def pass_effectiveness(matrix, player_index_maps):\n",
    "    data = []\n",
    "\n",
    "    #keys have the team values\n",
    "    for team in matrix.keys():\n",
    "        # we get the pass matrix of the team\n",
    "        pass_matrix = matrix[team]\n",
    "        # now the players  index for the team\n",
    "        player_index_map = player_index_maps[team]\n",
    "        \n",
    "        # go over each player in the pass matrix\n",
    "        for i in range(len(pass_matrix)):\n",
    "            # sum  values for the current player\n",
    "            e = np.sum(pass_matrix[i])\n",
    "            \n",
    "            # now we will get the player name from the index to be able to link the pass effectivenesss\n",
    "            player_name = [name for name, idx in player_index_map.items() if idx == i][0]\n",
    "            \n",
    "            # add this data to a list\n",
    "            data.append({'team': team, 'player_name': player_name, 'pass_effectiveness': e})\n",
    "\n",
    "    # add all data to a df\n",
    "    df = pd.DataFrame(data, columns=['team', 'player_name', 'pass_effectiveness'])\n",
    "    \n",
    "    return df"
   ]
  },
  {
   "cell_type": "code",
   "execution_count": 133,
   "metadata": {},
   "outputs": [],
   "source": [
    "df_pass_effectiveness = pass_effectiveness(pass_matrices, player_index_map)"
   ]
  },
  {
   "cell_type": "code",
   "execution_count": 134,
   "metadata": {},
   "outputs": [
    {
     "data": {
      "text/html": [
       "<div>\n",
       "<style scoped>\n",
       "    .dataframe tbody tr th:only-of-type {\n",
       "        vertical-align: middle;\n",
       "    }\n",
       "\n",
       "    .dataframe tbody tr th {\n",
       "        vertical-align: top;\n",
       "    }\n",
       "\n",
       "    .dataframe thead th {\n",
       "        text-align: right;\n",
       "    }\n",
       "</style>\n",
       "<table border=\"1\" class=\"dataframe\">\n",
       "  <thead>\n",
       "    <tr style=\"text-align: right;\">\n",
       "      <th></th>\n",
       "      <th>team</th>\n",
       "      <th>player_name</th>\n",
       "      <th>pass_effectiveness</th>\n",
       "    </tr>\n",
       "  </thead>\n",
       "  <tbody>\n",
       "    <tr>\n",
       "      <th>0</th>\n",
       "      <td>Espanyol</td>\n",
       "      <td>Antonio José Raillo Arenas</td>\n",
       "      <td>0.938053</td>\n",
       "    </tr>\n",
       "    <tr>\n",
       "      <th>1</th>\n",
       "      <td>Espanyol</td>\n",
       "      <td>Jorge Franco Alviz</td>\n",
       "      <td>0.851163</td>\n",
       "    </tr>\n",
       "    <tr>\n",
       "      <th>2</th>\n",
       "      <td>Espanyol</td>\n",
       "      <td>Salvador Sevilla López</td>\n",
       "      <td>0.924699</td>\n",
       "    </tr>\n",
       "    <tr>\n",
       "      <th>3</th>\n",
       "      <td>Espanyol</td>\n",
       "      <td>Mickaël Ciani</td>\n",
       "      <td>0.885417</td>\n",
       "    </tr>\n",
       "    <tr>\n",
       "      <th>4</th>\n",
       "      <td>Espanyol</td>\n",
       "      <td>Juan Rafael Fuentes Hernández</td>\n",
       "      <td>0.939828</td>\n",
       "    </tr>\n",
       "    <tr>\n",
       "      <th>...</th>\n",
       "      <td>...</td>\n",
       "      <td>...</td>\n",
       "      <td>...</td>\n",
       "    </tr>\n",
       "    <tr>\n",
       "      <th>607</th>\n",
       "      <td>Real Sociedad</td>\n",
       "      <td>Igor Zubeldia Elorza</td>\n",
       "      <td>1.000000</td>\n",
       "    </tr>\n",
       "    <tr>\n",
       "      <th>608</th>\n",
       "      <td>Real Sociedad</td>\n",
       "      <td>Alberto De La Bella Madureño</td>\n",
       "      <td>0.882426</td>\n",
       "    </tr>\n",
       "    <tr>\n",
       "      <th>609</th>\n",
       "      <td>Real Sociedad</td>\n",
       "      <td>Jonathas Cristian de Jesus</td>\n",
       "      <td>0.875000</td>\n",
       "    </tr>\n",
       "    <tr>\n",
       "      <th>610</th>\n",
       "      <td>Real Sociedad</td>\n",
       "      <td>Sergio Canales Madrazo</td>\n",
       "      <td>0.880626</td>\n",
       "    </tr>\n",
       "    <tr>\n",
       "      <th>611</th>\n",
       "      <td>Real Sociedad</td>\n",
       "      <td>Asier Illarramendi Andonegi</td>\n",
       "      <td>0.894450</td>\n",
       "    </tr>\n",
       "  </tbody>\n",
       "</table>\n",
       "<p>612 rows × 3 columns</p>\n",
       "</div>"
      ],
      "text/plain": [
       "              team                    player_name  pass_effectiveness\n",
       "0         Espanyol     Antonio José Raillo Arenas            0.938053\n",
       "1         Espanyol             Jorge Franco Alviz            0.851163\n",
       "2         Espanyol         Salvador Sevilla López            0.924699\n",
       "3         Espanyol                  Mickaël Ciani            0.885417\n",
       "4         Espanyol  Juan Rafael Fuentes Hernández            0.939828\n",
       "..             ...                            ...                 ...\n",
       "607  Real Sociedad           Igor Zubeldia Elorza            1.000000\n",
       "608  Real Sociedad   Alberto De La Bella Madureño            0.882426\n",
       "609  Real Sociedad     Jonathas Cristian de Jesus            0.875000\n",
       "610  Real Sociedad         Sergio Canales Madrazo            0.880626\n",
       "611  Real Sociedad    Asier Illarramendi Andonegi            0.894450\n",
       "\n",
       "[612 rows x 3 columns]"
      ]
     },
     "execution_count": 134,
     "metadata": {},
     "output_type": "execute_result"
    }
   ],
   "source": [
    "df_pass_effectiveness"
   ]
  },
  {
   "cell_type": "code",
   "execution_count": 135,
   "metadata": {},
   "outputs": [],
   "source": [
    "df_pass_effectiveness_sorted = df_pass_effectiveness.sort_values(by='pass_effectiveness', ascending=False)"
   ]
  },
  {
   "cell_type": "code",
   "execution_count": 145,
   "metadata": {},
   "outputs": [
    {
     "data": {
      "text/html": [
       "<div>\n",
       "<style scoped>\n",
       "    .dataframe tbody tr th:only-of-type {\n",
       "        vertical-align: middle;\n",
       "    }\n",
       "\n",
       "    .dataframe tbody tr th {\n",
       "        vertical-align: top;\n",
       "    }\n",
       "\n",
       "    .dataframe thead th {\n",
       "        text-align: right;\n",
       "    }\n",
       "</style>\n",
       "<table border=\"1\" class=\"dataframe\">\n",
       "  <thead>\n",
       "    <tr style=\"text-align: right;\">\n",
       "      <th></th>\n",
       "      <th>team</th>\n",
       "      <th>player_name</th>\n",
       "      <th>pass_effectiveness</th>\n",
       "    </tr>\n",
       "  </thead>\n",
       "  <tbody>\n",
       "    <tr>\n",
       "      <th>504</th>\n",
       "      <td>Real Madrid</td>\n",
       "      <td>Marcos Llorente Moreno</td>\n",
       "      <td>1.000000</td>\n",
       "    </tr>\n",
       "    <tr>\n",
       "      <th>253</th>\n",
       "      <td>Celta Vigo</td>\n",
       "      <td>Diego Alende López</td>\n",
       "      <td>1.000000</td>\n",
       "    </tr>\n",
       "    <tr>\n",
       "      <th>564</th>\n",
       "      <td>Rayo Vallecano</td>\n",
       "      <td>Luis Carlos Fariña Olivera</td>\n",
       "      <td>1.000000</td>\n",
       "    </tr>\n",
       "    <tr>\n",
       "      <th>223</th>\n",
       "      <td>Villarreal</td>\n",
       "      <td>Rodrigo Hernández Cascante</td>\n",
       "      <td>0.986667</td>\n",
       "    </tr>\n",
       "    <tr>\n",
       "      <th>86</th>\n",
       "      <td>Barcelona</td>\n",
       "      <td>Arda Turan</td>\n",
       "      <td>0.982372</td>\n",
       "    </tr>\n",
       "    <tr>\n",
       "      <th>...</th>\n",
       "      <td>...</td>\n",
       "      <td>...</td>\n",
       "      <td>...</td>\n",
       "    </tr>\n",
       "    <tr>\n",
       "      <th>350</th>\n",
       "      <td>Sevilla</td>\n",
       "      <td>Gaël Kakuta</td>\n",
       "      <td>0.533333</td>\n",
       "    </tr>\n",
       "    <tr>\n",
       "      <th>267</th>\n",
       "      <td>Valencia</td>\n",
       "      <td>Carlos Carbonell Gil</td>\n",
       "      <td>0.500000</td>\n",
       "    </tr>\n",
       "    <tr>\n",
       "      <th>43</th>\n",
       "      <td>Málaga</td>\n",
       "      <td>Hachim Mastour</td>\n",
       "      <td>0.500000</td>\n",
       "    </tr>\n",
       "    <tr>\n",
       "      <th>392</th>\n",
       "      <td>Atlético Madrid</td>\n",
       "      <td>Guilherme Magdalena Siqueira</td>\n",
       "      <td>0.428571</td>\n",
       "    </tr>\n",
       "    <tr>\n",
       "      <th>395</th>\n",
       "      <td>Atlético Madrid</td>\n",
       "      <td>Raúl García Escudero</td>\n",
       "      <td>0.067416</td>\n",
       "    </tr>\n",
       "  </tbody>\n",
       "</table>\n",
       "<p>534 rows × 3 columns</p>\n",
       "</div>"
      ],
      "text/plain": [
       "                team                   player_name  pass_effectiveness\n",
       "504      Real Madrid        Marcos Llorente Moreno            1.000000\n",
       "253       Celta Vigo            Diego Alende López            1.000000\n",
       "564   Rayo Vallecano    Luis Carlos Fariña Olivera            1.000000\n",
       "223       Villarreal    Rodrigo Hernández Cascante            0.986667\n",
       "86         Barcelona                    Arda Turan            0.982372\n",
       "..               ...                           ...                 ...\n",
       "350          Sevilla                   Gaël Kakuta            0.533333\n",
       "267         Valencia          Carlos Carbonell Gil            0.500000\n",
       "43            Málaga                Hachim Mastour            0.500000\n",
       "392  Atlético Madrid  Guilherme Magdalena Siqueira            0.428571\n",
       "395  Atlético Madrid          Raúl García Escudero            0.067416\n",
       "\n",
       "[534 rows x 3 columns]"
      ]
     },
     "execution_count": 145,
     "metadata": {},
     "output_type": "execute_result"
    }
   ],
   "source": [
    "df_pass_effectiveness_sorted[(df_pass_effectiveness_sorted['pass_effectiveness'] < 1.0) & \n",
    "                             (df_pass_effectiveness_sorted['pass_effectiveness'] > 0.0)]\n"
   ]
  }
 ],
 "metadata": {
  "kernelspec": {
   "display_name": "Python 3",
   "language": "python",
   "name": "python3"
  },
  "language_info": {
   "codemirror_mode": {
    "name": "ipython",
    "version": 3
   },
   "file_extension": ".py",
   "mimetype": "text/x-python",
   "name": "python",
   "nbconvert_exporter": "python",
   "pygments_lexer": "ipython3",
   "version": "3.10.8"
  }
 },
 "nbformat": 4,
 "nbformat_minor": 2
}
