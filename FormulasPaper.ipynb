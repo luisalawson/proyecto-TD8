{
 "cells": [
  {
   "cell_type": "markdown",
   "metadata": {},
   "source": [
    "## How to Find the Right Player for your Soccer Team?"
   ]
  },
  {
   "cell_type": "markdown",
   "metadata": {},
   "source": [
    "The model: model of the team dynamics\n",
    "\n",
    "Expected goals (Eg(A)) of a team composed by..\n",
    "1. PSL: possession efficiency\n",
    "    - CTMC (Continuous time markov chain) model of ball possession → this will estimate PSL\n",
    "2. SA: shot accuracy\n",
    "    - Logistic regression will be used to estimate the SA"
   ]
  },
  {
   "cell_type": "markdown",
   "metadata": {},
   "source": [
    "## Expected goals\n",
    "\n",
    "$$E_g(A) = P_g(A) \\times PSL_g(A) \\times SA_g(A)$$"
   ]
  },
  {
   "cell_type": "code",
   "execution_count": null,
   "metadata": {},
   "outputs": [],
   "source": [
    "def ExpGoals(PSL, SA, Pg):\n",
    "    return Pg*PSL*SA"
   ]
  },
  {
   "cell_type": "markdown",
   "metadata": {},
   "source": [
    "## Possession efficiency\n",
    "\n",
    "- Def: measure of possession efficiency. \n",
    "- Behavior: the more likely the team can successfully get off a shot in one possession, the higher this value will be\n",
    "- Characteristics:\n",
    "    1. Team metric\n",
    "    2. Property of specific line-ups and strategies\n",
    "    3. Non dependent on a single players skill level\n",
    "- Simulation of the metric: by using a probabilistic network model\n"
   ]
  },
  {
   "cell_type": "markdown",
   "metadata": {},
   "source": [
    "$$PSL_g(A) = \\frac{s_g(A)}{P_g(A)}$$"
   ]
  },
  {
   "cell_type": "markdown",
   "metadata": {},
   "source": [
    "where they represent\n",
    "1. shots taken by team A during game g\n",
    "2. ball possessions by team A during game g"
   ]
  },
  {
   "cell_type": "code",
   "execution_count": null,
   "metadata": {},
   "outputs": [],
   "source": [
    "def PSL(shots, ballpossesion):\n",
    "    if ballpossesion!=0:\n",
    "        return shots/ballpossesion\n",
    "    else:\n",
    "        return \"The team has 0 ball possesion\""
   ]
  },
  {
   "cell_type": "markdown",
   "metadata": {},
   "source": [
    "### Difference in probability of shot before loss\n"
   ]
  },
  {
   "cell_type": "markdown",
   "metadata": {},
   "source": [
    "$$\\triangle PSL_g(A) = PSL_g(A) - PSL_g(\\tilde{A})$$"
   ]
  },
  {
   "cell_type": "markdown",
   "metadata": {},
   "source": [
    "## Shot accuracy\n",
    "\n",
    "- Def: metric determined by the quality of the average shot taken by the team\n",
    "- Characteristics:\n",
    "    1. Dependent on single independent events given different factors (such as distance to goal)\n",
    "- Simulation of the metric: traditional methods such as logistic regression"
   ]
  },
  {
   "cell_type": "code",
   "execution_count": null,
   "metadata": {},
   "outputs": [],
   "source": []
  }
 ],
 "metadata": {
  "language_info": {
   "name": "python"
  }
 },
 "nbformat": 4,
 "nbformat_minor": 2
}
