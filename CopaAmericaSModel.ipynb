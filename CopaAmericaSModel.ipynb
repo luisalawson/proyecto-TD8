{
 "cells": [
  {
   "cell_type": "markdown",
   "metadata": {},
   "source": [
    "## Linear regression"
   ]
  },
  {
   "cell_type": "markdown",
   "metadata": {},
   "source": [
    "Linear regression is a sort of default for finding relationships in data\n",
    "- Con: There are better methods with better results\n",
    "- Pro: It provides simple, explainable results of the form\n",
    "\n",
    "<math xmlns=\"http://www.w3.org/1998/Math/MathML\" display=\"block\">\n",
    "  <mi>Y</mi>\n",
    "  <mo>=</mo>\n",
    "  <munder>\n",
    "    <mrow data-mjx-texclass=\"OP\">\n",
    "      <munder>\n",
    "        <mrow>\n",
    "          <msub>\n",
    "            <mi>&#x3B2;</mi>\n",
    "            <mn>0</mn>\n",
    "          </msub>\n",
    "          <mo>+</mo>\n",
    "          <msub>\n",
    "            <mi>&#x3B2;</mi>\n",
    "            <mn>1</mn>\n",
    "          </msub>\n",
    "          <msub>\n",
    "            <mi>X</mi>\n",
    "            <mn>1</mn>\n",
    "          </msub>\n",
    "          <mo>+</mo>\n",
    "          <msub>\n",
    "            <mi>&#x3B2;</mi>\n",
    "            <mn>2</mn>\n",
    "          </msub>\n",
    "          <msub>\n",
    "            <mi>X</mi>\n",
    "            <mn>2</mn>\n",
    "          </msub>\n",
    "          <mo>+</mo>\n",
    "          <mo>&#x22EF;</mo>\n",
    "          <mo>+</mo>\n",
    "          <msub>\n",
    "            <mi>&#x3B2;</mi>\n",
    "            <mi>p</mi>\n",
    "          </msub>\n",
    "          <msub>\n",
    "            <mi>X</mi>\n",
    "            <mi>k</mi>\n",
    "          </msub>\n",
    "        </mrow>\n",
    "        <mo>&#x23DF;</mo>\n",
    "      </munder>\n",
    "    </mrow>\n",
    "    <mrow data-mjx-texclass=\"ORD\">\n",
    "      <mi>f</mi>\n",
    "      <mo stretchy=\"false\">(</mo>\n",
    "      <mi>X</mi>\n",
    "      <mo>;</mo>\n",
    "      <mi>&#x3B2;</mi>\n",
    "      <mo stretchy=\"false\">)</mo>\n",
    "    </mrow>\n",
    "  </munder>\n",
    "  <mo>+</mo>\n",
    "  <mi>&#x3F5;</mi>\n",
    "</math>"
   ]
  },
  {
   "cell_type": "code",
   "execution_count": 1,
   "metadata": {},
   "outputs": [],
   "source": [
    "from statsbombpy import sb"
   ]
  },
  {
   "cell_type": "markdown",
   "metadata": {},
   "source": [
    "Minutes played based on age\n",
    "\n",
    "<math xmlns=\"http://www.w3.org/1998/Math/MathML\" display=\"block\">\n",
    "  <mstyle displaystyle=\"false\" scriptlevel=\"0\">\n",
    "    <mtext>Minutes Played</mtext>\n",
    "  </mstyle>\n",
    "  <mo>=</mo>\n",
    "  <msub>\n",
    "    <mi>&#x3B2;</mi>\n",
    "    <mn>0</mn>\n",
    "  </msub>\n",
    "  <mo>+</mo>\n",
    "  <msub>\n",
    "    <mi>&#x3B2;</mi>\n",
    "    <mn>1</mn>\n",
    "  </msub>\n",
    "  <mstyle displaystyle=\"false\" scriptlevel=\"0\">\n",
    "    <mtext>Age</mtext>\n",
    "  </mstyle>\n",
    "</math>"
   ]
  },
  {
   "cell_type": "code",
   "execution_count": null,
   "metadata": {},
   "outputs": [],
   "source": []
  }
 ],
 "metadata": {
  "kernelspec": {
   "display_name": "Python 3",
   "language": "python",
   "name": "python3"
  },
  "language_info": {
   "codemirror_mode": {
    "name": "ipython",
    "version": 3
   },
   "file_extension": ".py",
   "mimetype": "text/x-python",
   "name": "python",
   "nbconvert_exporter": "python",
   "pygments_lexer": "ipython3",
   "version": "3.10.8"
  }
 },
 "nbformat": 4,
 "nbformat_minor": 2
}
